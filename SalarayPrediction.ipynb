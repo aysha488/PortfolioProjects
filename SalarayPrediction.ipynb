{
 "cells": [
  {
   "cell_type": "markdown",
   "metadata": {},
   "source": [
    "# Salary Predictions Based on Job Descriptions"
   ]
  },
  {
   "cell_type": "markdown",
   "metadata": {},
   "source": [
    "# Part 1-Problem Description"
   ]
  },
  {
   "cell_type": "markdown",
   "metadata": {},
   "source": [
    "The task is to examine a set of job postings with salaries and then predict salaries for a new set of job postings."
   ]
  },
  {
   "cell_type": "code",
   "execution_count": 1,
   "metadata": {},
   "outputs": [],
   "source": [
    "# Basic data analysis libraries\n",
    "import pandas as pd\n",
    "import sklearn as sk\n",
    "import numpy as np\n",
    "import seaborn as sns\n",
    "import matplotlib.pyplot as plt\n",
    "%matplotlib inline\n",
    "\n",
    "# Personal Information\n",
    "__author__ = \"Emrul Hasan\"\n",
    "__email__ = \"emrul.phy@gmail.com\""
   ]
  },
  {
   "cell_type": "markdown",
   "metadata": {},
   "source": [
    "## Part 2 - Functions to load and clean the data"
   ]
  },
  {
   "cell_type": "code",
   "execution_count": 2,
   "metadata": {},
   "outputs": [],
   "source": [
    "# Load data\n",
    "def load_data(df):\n",
    "    return pd.read_csv(df)\n",
    "\n",
    "#Merging data\n",
    "def full_data(df1,df2,key=None ):\n",
    "    return pd.merge(df1, df2,on=key)\n",
    "\n",
    "# remove lower outliers and drop the job id\n",
    "def clean_outliers(df):\n",
    "    df=df[df.salary>8.5]\n",
    "    return df\n",
    "\n",
    "# drop the jobId column\n",
    "def drop_col(df,col):\n",
    "    return df.drop(columns=[col])\n",
    "\n",
    "# Encode categorical data: label encoding for ordinal data and One hot encoding for nominal data\n",
    "from sklearn.preprocessing import LabelEncoder\n",
    "\n",
    "def encode_cat(df,x1,x2):\n",
    "    for col in x1:\n",
    "        df[col]=LabelEncoder().fit_transform(df[col])\n",
    "    \n",
    "    clean_data=pd.get_dummies(df, columns=x2)\n",
    "    \n",
    "    return clean_data.drop(columns=['jobId'])"
   ]
  },
  {
   "cell_type": "markdown",
   "metadata": {},
   "source": [
    "# Part 3-Defining the data and variables"
   ]
  },
  {
   "cell_type": "code",
   "execution_count": 3,
   "metadata": {},
   "outputs": [
    {
     "name": "stderr",
     "output_type": "stream",
     "text": [
      "C:\\Users\\T420\\Anaconda3\\lib\\site-packages\\ipykernel_launcher.py:23: SettingWithCopyWarning: \n",
      "A value is trying to be set on a copy of a slice from a DataFrame.\n",
      "Try using .loc[row_indexer,col_indexer] = value instead\n",
      "\n",
      "See the caveats in the documentation: http://pandas.pydata.org/pandas-docs/stable/indexing.html#indexing-view-versus-copy\n"
     ]
    }
   ],
   "source": [
    "# load data\n",
    "train_data=load_data('train_features.csv')\n",
    "test_data=load_data('test_features.csv')\n",
    "salary_data=load_data('train_salaries.csv')\n",
    "\n",
    "# Merging data\n",
    "train=full_data(train_data, salary_data,key='jobId')\n",
    "\n",
    "# Define nominal and ordinal categorical Variables\n",
    "var1=['jobType','degree'] # ordinal data\n",
    "var2=['major','industry'] # Nominal data\n",
    "\n",
    "# Numerical Columns\n",
    "num_col=['yearsExperience', 'milesFromMetropolis']\n",
    "\n",
    "# Remove the outliers and drop the jobId column\n",
    "train_df=clean_outliers(train)\n",
    "\n",
    "#test=clean_outliers(test_data)\n",
    "\n",
    "# encode the data\n",
    "clean_data=encode_cat(train_df,var1,var2)\n",
    "test_clean=encode_cat(test_data,var1,var2)\n",
    "\n",
    "feature_df=drop_col(clean_data,'companyId')\n",
    "feature_df=drop_col(feature_df,'salary')\n",
    "test_df=drop_col(test_clean,'companyId')\n",
    "\n",
    "target_df=clean_data['salary']\n",
    "\n"
   ]
  },
  {
   "cell_type": "markdown",
   "metadata": {},
   "source": [
    "# Part 4- Model Building"
   ]
  },
  {
   "cell_type": "code",
   "execution_count": 4,
   "metadata": {},
   "outputs": [],
   "source": [
    "#  Import libraries for model building\n",
    "from sklearn.ensemble import RandomForestRegressor, GradientBoostingRegressor\n",
    "from sklearn.linear_model import LinearRegression\n",
    "from sklearn.model_selection import cross_val_score\n",
    "from sklearn.utils import shuffle\n",
    "from sklearn.metrics import mean_squared_error\n",
    "\n",
    "ML_model=[\n",
    "    LinearRegression(),\n",
    "    RandomForestRegressor(),\n",
    "    GradientBoostingRegressor()\n",
    "]\n",
    "\n",
    "def model_fit(models,feature,target):\n",
    "    \n",
    "    MSE=[]\n",
    "    CV_STD=[]\n",
    "    model_name=[]\n",
    "    for model in models:\n",
    "\n",
    "        neg_mse = cross_val_score(model, feature, target, cv=5, scoring='neg_mean_squared_error')\n",
    "        mean_mse= -1.0*np.mean(neg_mse)\n",
    "        MSE.append(mean_mse)\n",
    "        cv_std= np.std(neg_mse) \n",
    "        CV_STD.append(cv_std)\n",
    "        model_name.append(model.__class__.__name__)\n",
    "    \n",
    "    result=pd.DataFrame({'Model':model_name,'CV_std': CV_STD, 'MSE':MSE})     \n",
    "    return result\n",
    "\n",
    "# Parameter Tunning and choosing the best model\n",
    "\n",
    "RFReg=RandomForestRegressor(n_estimators=150, max_depth=25, min_samples_split=60)\n",
    "GBReg=GradientBoostingRegressor(n_estimators=150, max_depth=5)\n",
    "\n",
    "Tuned_MLmodel=[RFReg,GBReg]"
   ]
  },
  {
   "cell_type": "code",
   "execution_count": 5,
   "metadata": {},
   "outputs": [
    {
     "data": {
      "text/html": [
       "<div>\n",
       "<style scoped>\n",
       "    .dataframe tbody tr th:only-of-type {\n",
       "        vertical-align: middle;\n",
       "    }\n",
       "\n",
       "    .dataframe tbody tr th {\n",
       "        vertical-align: top;\n",
       "    }\n",
       "\n",
       "    .dataframe thead th {\n",
       "        text-align: right;\n",
       "    }\n",
       "</style>\n",
       "<table border=\"1\" class=\"dataframe\">\n",
       "  <thead>\n",
       "    <tr style=\"text-align: right;\">\n",
       "      <th></th>\n",
       "      <th>Model</th>\n",
       "      <th>CV_std</th>\n",
       "      <th>MSE</th>\n",
       "    </tr>\n",
       "  </thead>\n",
       "  <tbody>\n",
       "    <tr>\n",
       "      <th>0</th>\n",
       "      <td>LinearRegression</td>\n",
       "      <td>2.172739</td>\n",
       "      <td>719.373351</td>\n",
       "    </tr>\n",
       "    <tr>\n",
       "      <th>1</th>\n",
       "      <td>RandomForestRegressor</td>\n",
       "      <td>0.709746</td>\n",
       "      <td>468.239159</td>\n",
       "    </tr>\n",
       "    <tr>\n",
       "      <th>2</th>\n",
       "      <td>GradientBoostingRegressor</td>\n",
       "      <td>1.715171</td>\n",
       "      <td>377.494054</td>\n",
       "    </tr>\n",
       "  </tbody>\n",
       "</table>\n",
       "</div>"
      ],
      "text/plain": [
       "                       Model    CV_std         MSE\n",
       "0           LinearRegression  2.172739  719.373351\n",
       "1      RandomForestRegressor  0.709746  468.239159\n",
       "2  GradientBoostingRegressor  1.715171  377.494054"
      ]
     },
     "execution_count": 5,
     "metadata": {},
     "output_type": "execute_result"
    }
   ],
   "source": [
    "model_fit(ML_model,feature_df,target_df)"
   ]
  },
  {
   "cell_type": "code",
   "execution_count": 6,
   "metadata": {},
   "outputs": [
    {
     "data": {
      "text/html": [
       "<div>\n",
       "<style scoped>\n",
       "    .dataframe tbody tr th:only-of-type {\n",
       "        vertical-align: middle;\n",
       "    }\n",
       "\n",
       "    .dataframe tbody tr th {\n",
       "        vertical-align: top;\n",
       "    }\n",
       "\n",
       "    .dataframe thead th {\n",
       "        text-align: right;\n",
       "    }\n",
       "</style>\n",
       "<table border=\"1\" class=\"dataframe\">\n",
       "  <thead>\n",
       "    <tr style=\"text-align: right;\">\n",
       "      <th></th>\n",
       "      <th>Model</th>\n",
       "      <th>CV_std</th>\n",
       "      <th>MSE</th>\n",
       "    </tr>\n",
       "  </thead>\n",
       "  <tbody>\n",
       "    <tr>\n",
       "      <th>1</th>\n",
       "      <td>GradientBoostingRegressor</td>\n",
       "      <td>1.257249</td>\n",
       "      <td>357.062027</td>\n",
       "    </tr>\n",
       "    <tr>\n",
       "      <th>0</th>\n",
       "      <td>RandomForestRegressor</td>\n",
       "      <td>1.469785</td>\n",
       "      <td>367.223049</td>\n",
       "    </tr>\n",
       "  </tbody>\n",
       "</table>\n",
       "</div>"
      ],
      "text/plain": [
       "                       Model    CV_std         MSE\n",
       "1  GradientBoostingRegressor  1.257249  357.062027\n",
       "0      RandomForestRegressor  1.469785  367.223049"
      ]
     },
     "execution_count": 6,
     "metadata": {},
     "output_type": "execute_result"
    }
   ],
   "source": [
    "result_table=model_fit(Tuned_MLmodel, feature_df,target_df)\n",
    "result_table.sort_values(by='MSE',ascending=True)"
   ]
  },
  {
   "cell_type": "code",
   "execution_count": 7,
   "metadata": {},
   "outputs": [
    {
     "data": {
      "text/plain": [
       "357.0620265006031"
      ]
     },
     "execution_count": 7,
     "metadata": {},
     "output_type": "execute_result"
    }
   ],
   "source": [
    "min(result_table['MSE'])"
   ]
  },
  {
   "cell_type": "markdown",
   "metadata": {},
   "source": [
    "# Part 6: Predictions and feature important"
   ]
  },
  {
   "cell_type": "code",
   "execution_count": 8,
   "metadata": {},
   "outputs": [
    {
     "ename": "NameError",
     "evalue": "name 'mean_mse' is not defined",
     "output_type": "error",
     "traceback": [
      "\u001b[1;31m---------------------------------------------------------------------------\u001b[0m",
      "\u001b[1;31mNameError\u001b[0m                                 Traceback (most recent call last)",
      "\u001b[1;32m<ipython-input-8-f9abddbd38f4>\u001b[0m in \u001b[0;36m<module>\u001b[1;34m()\u001b[0m\n\u001b[0;32m      1\u001b[0m \u001b[1;31m#Choose model with lowest mse\u001b[0m\u001b[1;33m\u001b[0m\u001b[1;33m\u001b[0m\u001b[0m\n\u001b[1;32m----> 2\u001b[1;33m \u001b[0mmodel\u001b[0m \u001b[1;33m=\u001b[0m \u001b[0mmin\u001b[0m\u001b[1;33m(\u001b[0m\u001b[0mmean_mse\u001b[0m\u001b[1;33m,\u001b[0m \u001b[0mkey\u001b[0m\u001b[1;33m=\u001b[0m\u001b[0mmean_mse\u001b[0m\u001b[1;33m.\u001b[0m\u001b[0mget\u001b[0m\u001b[1;33m)\u001b[0m\u001b[1;33m\u001b[0m\u001b[0m\n\u001b[0m\u001b[0;32m      3\u001b[0m \u001b[0mprint\u001b[0m\u001b[1;33m(\u001b[0m\u001b[1;34m'\\nPredictions calculated using model with lowest MSE:'\u001b[0m\u001b[1;33m)\u001b[0m\u001b[1;33m\u001b[0m\u001b[0m\n\u001b[0;32m      4\u001b[0m \u001b[0mprint\u001b[0m\u001b[1;33m(\u001b[0m\u001b[0mmodel\u001b[0m\u001b[1;33m)\u001b[0m\u001b[1;33m\u001b[0m\u001b[0m\n\u001b[0;32m      5\u001b[0m \u001b[1;33m\u001b[0m\u001b[0m\n",
      "\u001b[1;31mNameError\u001b[0m: name 'mean_mse' is not defined"
     ]
    }
   ],
   "source": [
    "#Choose model with lowest mse\n",
    "model = min(mean_mse, key=mean_mse.get)\n",
    "print('\\nPredictions calculated using model with lowest MSE:')\n",
    "print(model)\n",
    "\n",
    "#train model on entire dataset\n",
    "model.fit(feature_df, target_df)\n",
    "\n",
    "#create predictions based on test data\n",
    "predictions = model.predict(test_df)"
   ]
  }
 ],
 "metadata": {
  "kernelspec": {
   "display_name": "Python 3",
   "language": "python",
   "name": "python3"
  },
  "language_info": {
   "codemirror_mode": {
    "name": "ipython",
    "version": 3
   },
   "file_extension": ".py",
   "mimetype": "text/x-python",
   "name": "python",
   "nbconvert_exporter": "python",
   "pygments_lexer": "ipython3",
   "version": "3.6.5"
  }
 },
 "nbformat": 4,
 "nbformat_minor": 2
}
