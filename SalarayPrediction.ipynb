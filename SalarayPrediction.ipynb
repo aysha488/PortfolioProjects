{
 "cells": [
  {
   "cell_type": "markdown",
   "metadata": {},
   "source": [
    "# Salary Predictions Based on Job Descriptions"
   ]
  },
  {
   "cell_type": "markdown",
   "metadata": {},
   "source": [
    "# Problem Description"
   ]
  },
  {
   "cell_type": "markdown",
   "metadata": {},
   "source": [
    "The task is to examine a set of job postings with salaries and then predict salaries for a new set of job postings. This a regression problem"
   ]
  },
  {
   "cell_type": "markdown",
   "metadata": {},
   "source": [
    "# Basic Data Analysis Library"
   ]
  },
  {
   "cell_type": "code",
   "execution_count": 1,
   "metadata": {},
   "outputs": [],
   "source": [
    "# Basic data analysis libraries\n",
    "import pandas as pd\n",
    "import sklearn as sk\n",
    "import numpy as np\n",
    "import seaborn as sns\n",
    "import matplotlib.pyplot as plt\n",
    "%matplotlib inline\n",
    "\n",
    "# Personal Information\n",
    "__author__ = \"Emrul Hasan\"\n",
    "__email__ = \"emrul.phy@gmail.com\""
   ]
  },
  {
   "cell_type": "markdown",
   "metadata": {},
   "source": [
    "## Functions to load and clean the data"
   ]
  },
  {
   "cell_type": "code",
   "execution_count": 2,
   "metadata": {},
   "outputs": [],
   "source": [
    "# Load data\n",
    "def load_data(df):\n",
    "    return pd.read_csv(df)\n",
    "\n",
    "#Merging data\n",
    "def full_data(df1,df2,key=None ):\n",
    "    return pd.merge(df1, df2,on=key)\n",
    "\n",
    "# remove lower outliers and drop the job id\n",
    "def clean_outliers(df):\n",
    "    df=df[df.salary>8.5]\n",
    "    return df\n",
    "\n",
    "# drop the jobId column\n",
    "def drop_col(df,col):\n",
    "    return df.drop(columns=[col])\n",
    "\n",
    "# Encode categorical data: label encoding for ordinal data and One hot encoding for nominal data\n",
    "from sklearn.preprocessing import LabelEncoder\n",
    "\n",
    "def encode_cat(df,x1,x2):\n",
    "    for col in x1:\n",
    "        df[col]=LabelEncoder().fit_transform(df[col])\n",
    "    \n",
    "    clean_data=pd.get_dummies(df, columns=x2)\n",
    "    \n",
    "    return clean_data.drop(columns=['jobId'])"
   ]
  },
  {
   "cell_type": "markdown",
   "metadata": {},
   "source": [
    "# Defining data and variables"
   ]
  },
  {
   "cell_type": "code",
   "execution_count": 3,
   "metadata": {
    "scrolled": true
   },
   "outputs": [
    {
     "name": "stderr",
     "output_type": "stream",
     "text": [
      "C:\\Users\\T420\\Anaconda3\\lib\\site-packages\\ipykernel_launcher.py:23: SettingWithCopyWarning: \n",
      "A value is trying to be set on a copy of a slice from a DataFrame.\n",
      "Try using .loc[row_indexer,col_indexer] = value instead\n",
      "\n",
      "See the caveats in the documentation: http://pandas.pydata.org/pandas-docs/stable/indexing.html#indexing-view-versus-copy\n"
     ]
    }
   ],
   "source": [
    "# load data\n",
    "train_data=load_data('train_features.csv')\n",
    "test_data=load_data('test_features.csv')\n",
    "salary_data=load_data('train_salaries.csv')\n",
    "\n",
    "# Merging data\n",
    "train=full_data(train_data, salary_data,key='jobId')\n",
    "\n",
    "# Define nominal and ordinal categorical Variables\n",
    "var1=['jobType','degree'] # ordinal data\n",
    "var2=['major','industry'] # Nominal data\n",
    "\n",
    "# Numerical Columns\n",
    "num_col=['yearsExperience', 'milesFromMetropolis']\n",
    "\n",
    "# Remove the outliers and drop the jobId column\n",
    "train_df=clean_outliers(train)\n",
    "\n",
    "#test=clean_outliers(test_data)\n",
    "\n",
    "# encode the data\n",
    "clean_data=encode_cat(train_df,var1,var2)\n",
    "test_clean=encode_cat(test_data,var1,var2)\n",
    "\n",
    "feature_df=drop_col(clean_data,'companyId')\n",
    "feature_df=drop_col(feature_df,'salary')\n",
    "test_df=drop_col(test_clean,'companyId')\n",
    "\n",
    "target_df=clean_data['salary']\n"
   ]
  },
  {
   "cell_type": "markdown",
   "metadata": {},
   "source": [
    "# Baseline Model"
   ]
  },
  {
   "cell_type": "code",
   "execution_count": 4,
   "metadata": {},
   "outputs": [],
   "source": [
    "# Import MLlibraries\n",
    "from sklearn.model_selection import train_test_split\n",
    "from sklearn.metrics import mean_squared_error\n",
    "from sklearn.model_selection import cross_val_score\n",
    "from sklearn.ensemble import RandomForestRegressor, GradientBoostingRegressor\n",
    "from sklearn.linear_model import LinearRegression\n",
    "from xgboost import XGBRegressor\n",
    "from sklearn.utils import shuffle"
   ]
  },
  {
   "cell_type": "code",
   "execution_count": 5,
   "metadata": {},
   "outputs": [],
   "source": [
    "def Baseline_model(df,col,target):\n",
    "    avg_target=df.groupby([col])[target].mean().reset_index()\n",
    "    target_df=df[target]\n",
    "    df.drop(target,axis=1, inplace=True)\n",
    "    X_train, X_test, Y_train, Y_test = train_test_split(df, target_df, test_size=0.3,random_state=42)\n",
    "    Baseline_data=X_test.merge(avg_target,on=[col])\n",
    "    Baseline_predictions=Baseline_data[target]\n",
    "    Baseline_MSE=mean_squared_error(Y_test, Baseline_predictions)\n",
    "    \n",
    "    print('Baseline Model MSE: {}'.format(Baseline_MSE))\n",
    "   "
   ]
  },
  {
   "cell_type": "code",
   "execution_count": 6,
   "metadata": {},
   "outputs": [
    {
     "name": "stdout",
     "output_type": "stream",
     "text": [
      "Baseline Model MSE: 1634.6951926513882\n"
     ]
    }
   ],
   "source": [
    "Baseline_model(train,'industry','salary')"
   ]
  },
  {
   "cell_type": "markdown",
   "metadata": {},
   "source": [
    "# Model Building"
   ]
  },
  {
   "cell_type": "code",
   "execution_count": 7,
   "metadata": {},
   "outputs": [
    {
     "name": "stdout",
     "output_type": "stream",
     "text": [
      "\n",
      "Result:\n",
      "    index                      Model    CV_std         MSE\n",
      "0      2  GradientBoostingRegressor  1.850369  377.454028\n",
      "1      3               XGBRegressor  2.064060  377.567446\n",
      "2      1      RandomForestRegressor  0.827448  465.440611\n",
      "3      0           LinearRegression  1.491366  719.378098\n",
      "The minimum MSE is 377.45402752571226 and the best model is GradientBoostingRegressor\n"
     ]
    }
   ],
   "source": [
    "# Four importnat Models\n",
    "ML_model=[\n",
    "    LinearRegression(),\n",
    "    RandomForestRegressor(),\n",
    "    GradientBoostingRegressor(),\n",
    "    XGBRegressor()\n",
    "]\n",
    "\n",
    "def model_fit(models,feature,target):\n",
    "    \n",
    "    MSE=[]\n",
    "    CV_STD=[]\n",
    "    model_name=[]\n",
    "    for model in models:\n",
    "\n",
    "        neg_mse = cross_val_score(model, feature, target, cv=2, scoring='neg_mean_squared_error',n_jobs=2)\n",
    "        mean_mse= -1.0*np.mean(neg_mse)\n",
    "        MSE.append(mean_mse)\n",
    "        cv_std= np.std(neg_mse) \n",
    "        CV_STD.append(cv_std)\n",
    "        model_name.append(model.__class__.__name__)\n",
    "    \n",
    "    result=pd.DataFrame({'Model':model_name,'CV_std': CV_STD, 'MSE':MSE})\n",
    "    \n",
    "    result=result.sort_values(by='MSE',ascending=True).reset_index()\n",
    "    print(\"\\nResult:\\n\", result)\n",
    "    \n",
    "    min_MSE=min(result['MSE'])\n",
    "    best_model=result['Model'][0]# first row and first column\n",
    "    \n",
    "    print('The minimum MSE is {} and the best model is {}'.format(min_MSE,best_model))\n",
    "\n",
    "model_fit(ML_model,feature_df,target_df)\n"
   ]
  },
  {
   "cell_type": "markdown",
   "metadata": {},
   "source": [
    "# Parameter tunning"
   ]
  },
  {
   "cell_type": "code",
   "execution_count": 12,
   "metadata": {},
   "outputs": [],
   "source": [
    "from sklearn.model_selection import GridSearchCV"
   ]
  },
  {
   "cell_type": "code",
   "execution_count": 18,
   "metadata": {},
   "outputs": [
    {
     "data": {
      "text/plain": [
       "{'learning_rate': 0.1, 'max_depth': 5, 'n_estimators': 250}"
      ]
     },
     "execution_count": 18,
     "metadata": {},
     "output_type": "execute_result"
    }
   ],
   "source": [
    "# Search for best parameters\n",
    "parameter = {'n_estimators':[100,150,200,250],\n",
    "            'max_depth':[4,5,6,7],\n",
    "            'learning_rate':[0.1,0.2,0.3,0.4]\n",
    "            }\n",
    "\n",
    "def param_search(param_grid, n_jobs):\n",
    "    estimator = GradientBoostingRegressor() \n",
    "    #cv = ShuffleSplit(X_train.shape[0], n_iter=10, test_size=0.2)\n",
    "    GridCV= GridSearchCV(estimator=estimator, cv=2, param_grid=param_grid, n_jobs=n_jobs) \n",
    "    GridCV.fit(feature_df, target_df) \n",
    "\n",
    "    return GridCV.best_params_ \n",
    "\n",
    "param_search(parameter,2)"
   ]
  },
  {
   "cell_type": "code",
   "execution_count": 19,
   "metadata": {},
   "outputs": [
    {
     "name": "stdout",
     "output_type": "stream",
     "text": [
      "Tunned MSE for best model is 356.41210502710135 \n"
     ]
    }
   ],
   "source": [
    "# Result for best parameters\n",
    "GBReg=GradientBoostingRegressor(n_estimators=250,learning_rate=0.1, max_depth=5)\n",
    "kfold=2\n",
    "def best_score(model,feature, target,cv=kfold):\n",
    "    neg_mse = cross_val_score(model, feature, target, cv=kfold, scoring='neg_mean_squared_error', n_jobs=2)\n",
    "    mean_mse= -1.0*np.mean(neg_mse)\n",
    "    cv_std= np.std(neg_mse)\n",
    "    \n",
    "    print('Tunned MSE for best model is {} '.format(mean_mse))\n",
    "\n",
    "best_score(GBReg,feature_df, target_df,cv=kfold)   "
   ]
  },
  {
   "cell_type": "markdown",
   "metadata": {},
   "source": [
    "# Predictions"
   ]
  },
  {
   "cell_type": "code",
   "execution_count": 22,
   "metadata": {},
   "outputs": [
    {
     "name": "stdout",
     "output_type": "stream",
     "text": [
      "\n",
      "Predictions with best model:\n"
     ]
    },
    {
     "data": {
      "text/plain": [
       "array([111.42516715,  92.45180307, 178.23470845, ...,  56.41271313,\n",
       "       166.10157223, 112.05788983])"
      ]
     },
     "execution_count": 22,
     "metadata": {},
     "output_type": "execute_result"
    }
   ],
   "source": [
    "#Predictions with the best model\n",
    "print('\\nPredictions with best model:')\n",
    "\n",
    "model=GradientBoostingRegressor(n_estimators=250,learning_rate=0.1, max_depth=5)\n",
    "\n",
    "predictions=model.fit(feature_df, target_df)\n",
    "\n",
    "#create predictions based on test data\n",
    "predictions = model.predict(test_df)\n",
    "predictions"
   ]
  },
  {
   "cell_type": "markdown",
   "metadata": {},
   "source": [
    "# Feature Importance"
   ]
  },
  {
   "cell_type": "code",
   "execution_count": 21,
   "metadata": {},
   "outputs": [
    {
     "data": {
      "image/png": "[encoded data removed]",
      "text/plain": [
       "<Figure size 432x288 with 1 Axes>"
      ]
     },
     "metadata": {},
     "output_type": "display_data"
    }
   ],
   "source": [
    "# Function to calculate important features\n",
    "def plot_feature(model, df):\n",
    "    feat_importances = pd.Series(model.feature_importances_, index=df.columns)\n",
    "    feat_importances.nlargest(10).plot(kind='barh')\n",
    "    plt.xlabel('Feature importance')\n",
    "    plt.show()\n",
    "\n",
    "plot_feature(model,feature_df)"
   ]
  },
  {
   "cell_type": "markdown",
   "metadata": {},
   "source": [
    "Most important feature is jobType followed by yearsExperience, milesFromMetropolis and degree"
   ]
  }
 ],
 "metadata": {
  "kernelspec": {
   "display_name": "Python 3",
   "language": "python",
   "name": "python3"
  },
  "language_info": {
   "codemirror_mode": {
    "name": "ipython",
    "version": 3
   },
   "file_extension": ".py",
   "mimetype": "text/x-python",
   "name": "python",
   "nbconvert_exporter": "python",
   "pygments_lexer": "ipython3",
   "version": "3.6.5"
  }
 },
 "nbformat": 4,
 "nbformat_minor": 2
}
